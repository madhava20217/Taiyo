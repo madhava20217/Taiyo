{
 "cells": [
  {
   "cell_type": "code",
   "execution_count": 17,
   "metadata": {},
   "outputs": [],
   "source": [
    "import tensorflow as tf\n",
    "import os\n",
    "import numpy as np\n",
    "import pandas as pd\n",
    "import seaborn as sns\n",
    "import matplotlib.pyplot as plt\n",
    "import sys\n",
    "\n",
    "import xgboost\n",
    "from sklearn import preprocessing\n",
    "import glob"
   ]
  },
  {
   "cell_type": "code",
   "execution_count": 18,
   "metadata": {},
   "outputs": [],
   "source": [
    "#location of the datasets and name of the dependent variable, csv_files and val respectively\n",
    "\n",
    "path = \".\\\\datasets\\\\\"\n",
    "val = 'btc'"
   ]
  },
  {
   "cell_type": "code",
   "execution_count": 19,
   "metadata": {},
   "outputs": [],
   "source": [
    "def vars(path):\n",
    "    '''Function to get all the CSV files in a directory\n",
    "    Arguments: path, the path to the main directory containing the csv files\n",
    "    Returns: List of paths to the files'''\n",
    "    return glob.glob(os.path.join(path, \"*.csv\"))\n",
    "    "
   ]
  },
  {
   "cell_type": "code",
   "execution_count": 20,
   "metadata": {},
   "outputs": [],
   "source": [
    "csv_files = vars(path)\n",
    "\n",
    "dep_path = [f for f in csv_files if f.split(\"\\\\\")[-1].split('.')[0] == 'btc']\n",
    "\n",
    "if(len(dep_path) == 0):\n",
    "    print(\"Invalid value\")\n",
    "    sys.exit(1)\n",
    "\n",
    "else: dep_path = dep_path[0]\n",
    "\n",
    "csv_files.remove(dep_path)"
   ]
  },
  {
   "cell_type": "code",
   "execution_count": 21,
   "metadata": {},
   "outputs": [],
   "source": [
    "main_data_cols = ['Date', 'Price']\n",
    "\n",
    "main_df = pd.read_csv(dep_path, usecols= main_data_cols)\n",
    "main_df.columns = ['Date', val]"
   ]
  },
  {
   "cell_type": "code",
   "execution_count": 22,
   "metadata": {},
   "outputs": [
    {
     "name": "stdout",
     "output_type": "stream",
     "text": [
      "           Date aluminium\n",
      "0  Jun 16, 2022  2,603.00\n",
      "1  Jun 15, 2022  2,592.50\n",
      "2  Jun 14, 2022  2,570.00\n",
      "3  Jun 13, 2022  2,628.00\n",
      "4  Jun 10, 2022  2,680.00\n",
      "Empty DataFrame\n",
      "Columns: [Date, copper]\n",
      "Index: []\n",
      "Empty DataFrame\n",
      "Columns: [Date, crude-oil]\n",
      "Index: []\n",
      "Empty DataFrame\n",
      "Columns: [Date, gold]\n",
      "Index: []\n",
      "Empty DataFrame\n",
      "Columns: [Date, natural_gas]\n",
      "Index: []\n",
      "Empty DataFrame\n",
      "Columns: [Date, sugar]\n",
      "Index: []\n",
      "Empty DataFrame\n",
      "Columns: [Date, wheat]\n",
      "Index: []\n"
     ]
    }
   ],
   "source": [
    "for paths in csv_files:\n",
    "    df = pd.read_csv(paths, usecols = main_data_cols)\n",
    "    df.columns = ['Date', paths.split(\"\\\\\")[-1].split(\".\")[0]]\n",
    "    print(df.head())\n",
    "    main_df = pd.merge(main_df, df, on =\"Date\")"
   ]
  }
 ],
 "metadata": {
  "kernelspec": {
   "display_name": "Python 3.8.13 ('myenv')",
   "language": "python",
   "name": "python3"
  },
  "language_info": {
   "codemirror_mode": {
    "name": "ipython",
    "version": 3
   },
   "file_extension": ".py",
   "mimetype": "text/x-python",
   "name": "python",
   "nbconvert_exporter": "python",
   "pygments_lexer": "ipython3",
   "version": "3.8.13"
  },
  "orig_nbformat": 4,
  "vscode": {
   "interpreter": {
    "hash": "de1e89af3ef8b17e93d79e53c27fdd6267335e03ee420ef3296d6319bf4dd9be"
   }
  }
 },
 "nbformat": 4,
 "nbformat_minor": 2
}

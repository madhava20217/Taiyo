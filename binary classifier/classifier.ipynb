{
 "cells": [
  {
   "cell_type": "code",
   "execution_count": 206,
   "metadata": {},
   "outputs": [],
   "source": [
    "import pandas as pd\n",
    "import numpy as np\n",
    "import tensorflow as tf\n",
    "import os\n",
    "import numpy as np\n",
    "import pandas as pd\n",
    "import seaborn as sns\n",
    "import matplotlib.pyplot as plt\n",
    "\n",
    "from sklearn import preprocessing\n",
    "from sklearn.model_selection import train_test_split"
   ]
  },
  {
   "cell_type": "code",
   "execution_count": 207,
   "metadata": {},
   "outputs": [],
   "source": [
    "dataset = pd.read_excel('World_Bank_Projects_downloaded_6_13_2022.xls')"
   ]
  },
  {
   "cell_type": "code",
   "execution_count": 208,
   "metadata": {},
   "outputs": [
    {
     "data": {
      "text/plain": [
       "id                           object\n",
       "regionname                   object\n",
       "countryname                  object\n",
       "projectstatusdisplay         object\n",
       "project_name                 object\n",
       "pdo                          object\n",
       "impagency                    object\n",
       "cons_serv_reqd_ind           object\n",
       "url                          object\n",
       "boardapprovaldate            object\n",
       "closingdate                  object\n",
       "projectfinancialtype         object\n",
       "curr_project_cost           float64\n",
       "curr_ibrd_commitment          int64\n",
       "curr_ida_commitment           int64\n",
       "curr_total_commitment         int64\n",
       "grantamt                      int64\n",
       "borrower                     object\n",
       "lendinginstr                 object\n",
       "envassesmentcategorycode     object\n",
       "esrc_ovrl_risk_rate          object\n",
       "sector1                      object\n",
       "sector2                      object\n",
       "sector3                      object\n",
       "theme1                       object\n",
       "theme2                       object\n",
       "dtype: object"
      ]
     },
     "execution_count": 208,
     "metadata": {},
     "output_type": "execute_result"
    }
   ],
   "source": [
    "#types of all columns in the dataframe\n",
    "dataset.dtypes"
   ]
  },
  {
   "cell_type": "code",
   "execution_count": 209,
   "metadata": {},
   "outputs": [
    {
     "data": {
      "text/plain": [
       "21487"
      ]
     },
     "execution_count": 209,
     "metadata": {},
     "output_type": "execute_result"
    }
   ],
   "source": [
    "#There are 21487 rows in the dataset\n",
    "\n",
    "len(dataset)"
   ]
  },
  {
   "cell_type": "code",
   "execution_count": 210,
   "metadata": {},
   "outputs": [
    {
     "data": {
      "text/html": [
       "<div>\n",
       "<style scoped>\n",
       "    .dataframe tbody tr th:only-of-type {\n",
       "        vertical-align: middle;\n",
       "    }\n",
       "\n",
       "    .dataframe tbody tr th {\n",
       "        vertical-align: top;\n",
       "    }\n",
       "\n",
       "    .dataframe thead th {\n",
       "        text-align: right;\n",
       "    }\n",
       "</style>\n",
       "<table border=\"1\" class=\"dataframe\">\n",
       "  <thead>\n",
       "    <tr style=\"text-align: right;\">\n",
       "      <th></th>\n",
       "      <th>id</th>\n",
       "      <th>regionname</th>\n",
       "      <th>countryname</th>\n",
       "      <th>projectstatusdisplay</th>\n",
       "      <th>project_name</th>\n",
       "      <th>pdo</th>\n",
       "      <th>impagency</th>\n",
       "      <th>cons_serv_reqd_ind</th>\n",
       "      <th>url</th>\n",
       "      <th>boardapprovaldate</th>\n",
       "      <th>...</th>\n",
       "      <th>grantamt</th>\n",
       "      <th>borrower</th>\n",
       "      <th>lendinginstr</th>\n",
       "      <th>envassesmentcategorycode</th>\n",
       "      <th>esrc_ovrl_risk_rate</th>\n",
       "      <th>sector1</th>\n",
       "      <th>sector2</th>\n",
       "      <th>sector3</th>\n",
       "      <th>theme1</th>\n",
       "      <th>theme2</th>\n",
       "    </tr>\n",
       "  </thead>\n",
       "  <tbody>\n",
       "    <tr>\n",
       "      <th>0</th>\n",
       "      <td>P169983</td>\n",
       "      <td>Africa East</td>\n",
       "      <td>Republic of Angola</td>\n",
       "      <td>Active</td>\n",
       "      <td>Third Angola Growth and Inclusion Development ...</td>\n",
       "      <td>The development objective is to support the Go...</td>\n",
       "      <td>Ministry of Finance of the Republic of Angola</td>\n",
       "      <td>NaN</td>\n",
       "      <td>http://projects.worldbank.org/P169983/null?lan...</td>\n",
       "      <td>2022-03-25T00:00:00Z</td>\n",
       "      <td>...</td>\n",
       "      <td>0</td>\n",
       "      <td>REPUBLIC OF ANGOLA</td>\n",
       "      <td>Development Policy Lending</td>\n",
       "      <td>NaN</td>\n",
       "      <td>NaN</td>\n",
       "      <td>NaN</td>\n",
       "      <td>NaN</td>\n",
       "      <td>NaN</td>\n",
       "      <td>NaN</td>\n",
       "      <td>NaN</td>\n",
       "    </tr>\n",
       "    <tr>\n",
       "      <th>1</th>\n",
       "      <td>P173711</td>\n",
       "      <td>Africa East</td>\n",
       "      <td>Republic of Madagascar</td>\n",
       "      <td>Active</td>\n",
       "      <td>Connecting Madagascar for Inclusive Growth</td>\n",
       "      <td>The Project Development Objective is to improv...</td>\n",
       "      <td>Road Agency</td>\n",
       "      <td>NaN</td>\n",
       "      <td>http://projects.worldbank.org/P173711/null?lan...</td>\n",
       "      <td>2022-03-25T00:00:00Z</td>\n",
       "      <td>...</td>\n",
       "      <td>0</td>\n",
       "      <td>REPUBLIC OF MADAGASCAR</td>\n",
       "      <td>Investment Project Financing</td>\n",
       "      <td>NaN</td>\n",
       "      <td>NaN</td>\n",
       "      <td>NaN</td>\n",
       "      <td>NaN</td>\n",
       "      <td>NaN</td>\n",
       "      <td>NaN</td>\n",
       "      <td>NaN</td>\n",
       "    </tr>\n",
       "    <tr>\n",
       "      <th>2</th>\n",
       "      <td>P175747</td>\n",
       "      <td>Middle East and North Africa</td>\n",
       "      <td>Kingdom of Morocco</td>\n",
       "      <td>Active</td>\n",
       "      <td>Resilient and Sustainable Water in Agriculture</td>\n",
       "      <td>The project development objectives (PDO) are t...</td>\n",
       "      <td>Ministry of Agriculture - Directorate of Irrig...</td>\n",
       "      <td>NaN</td>\n",
       "      <td>http://projects.worldbank.org/P175747/null?lan...</td>\n",
       "      <td>2022-03-25T00:00:00Z</td>\n",
       "      <td>...</td>\n",
       "      <td>0</td>\n",
       "      <td>Kingdom of Morocco</td>\n",
       "      <td>Investment Project Financing</td>\n",
       "      <td>NaN</td>\n",
       "      <td>NaN</td>\n",
       "      <td>NaN</td>\n",
       "      <td>NaN</td>\n",
       "      <td>NaN</td>\n",
       "      <td>NaN</td>\n",
       "      <td>NaN</td>\n",
       "    </tr>\n",
       "    <tr>\n",
       "      <th>3</th>\n",
       "      <td>P175792</td>\n",
       "      <td>Africa East</td>\n",
       "      <td>Republic of Malawi</td>\n",
       "      <td>Active</td>\n",
       "      <td>Invigorating local market &amp; competition in Pub...</td>\n",
       "      <td>Invigorating local market &amp; competition in Pub...</td>\n",
       "      <td>Malawi - Public Procurement and Disposal of As...</td>\n",
       "      <td>NaN</td>\n",
       "      <td>http://projects.worldbank.org/P175792/null?lan...</td>\n",
       "      <td>2022-03-25T00:00:00Z</td>\n",
       "      <td>...</td>\n",
       "      <td>410000</td>\n",
       "      <td>Republic of Malawi</td>\n",
       "      <td>Investment Project Financing</td>\n",
       "      <td>C</td>\n",
       "      <td>NaN</td>\n",
       "      <td>NaN</td>\n",
       "      <td>NaN</td>\n",
       "      <td>NaN</td>\n",
       "      <td>NaN</td>\n",
       "      <td>NaN</td>\n",
       "    </tr>\n",
       "    <tr>\n",
       "      <th>4</th>\n",
       "      <td>P177073</td>\n",
       "      <td>East Asia and Pacific</td>\n",
       "      <td>Federated States of Micronesia</td>\n",
       "      <td>Active</td>\n",
       "      <td>Federated States of Micronesia Strategic Clima...</td>\n",
       "      <td>To improve the climate resilience of the Recip...</td>\n",
       "      <td>Department of Transportation, Communications &amp;...</td>\n",
       "      <td>NaN</td>\n",
       "      <td>http://projects.worldbank.org/P177073/null?lan...</td>\n",
       "      <td>2022-03-25T00:00:00Z</td>\n",
       "      <td>...</td>\n",
       "      <td>0</td>\n",
       "      <td>Federated States of Micronesia</td>\n",
       "      <td>Investment Project Financing</td>\n",
       "      <td>NaN</td>\n",
       "      <td>NaN</td>\n",
       "      <td>NaN</td>\n",
       "      <td>NaN</td>\n",
       "      <td>NaN</td>\n",
       "      <td>NaN</td>\n",
       "      <td>NaN</td>\n",
       "    </tr>\n",
       "  </tbody>\n",
       "</table>\n",
       "<p>5 rows × 26 columns</p>\n",
       "</div>"
      ],
      "text/plain": [
       "        id                    regionname                     countryname  \\\n",
       "0  P169983                   Africa East              Republic of Angola   \n",
       "1  P173711                   Africa East          Republic of Madagascar   \n",
       "2  P175747  Middle East and North Africa              Kingdom of Morocco   \n",
       "3  P175792                   Africa East              Republic of Malawi   \n",
       "4  P177073         East Asia and Pacific  Federated States of Micronesia   \n",
       "\n",
       "  projectstatusdisplay                                       project_name  \\\n",
       "0               Active  Third Angola Growth and Inclusion Development ...   \n",
       "1               Active         Connecting Madagascar for Inclusive Growth   \n",
       "2               Active     Resilient and Sustainable Water in Agriculture   \n",
       "3               Active  Invigorating local market & competition in Pub...   \n",
       "4               Active  Federated States of Micronesia Strategic Clima...   \n",
       "\n",
       "                                                 pdo  \\\n",
       "0  The development objective is to support the Go...   \n",
       "1  The Project Development Objective is to improv...   \n",
       "2  The project development objectives (PDO) are t...   \n",
       "3  Invigorating local market & competition in Pub...   \n",
       "4  To improve the climate resilience of the Recip...   \n",
       "\n",
       "                                           impagency cons_serv_reqd_ind  \\\n",
       "0      Ministry of Finance of the Republic of Angola                NaN   \n",
       "1                                        Road Agency                NaN   \n",
       "2  Ministry of Agriculture - Directorate of Irrig...                NaN   \n",
       "3  Malawi - Public Procurement and Disposal of As...                NaN   \n",
       "4  Department of Transportation, Communications &...                NaN   \n",
       "\n",
       "                                                 url     boardapprovaldate  \\\n",
       "0  http://projects.worldbank.org/P169983/null?lan...  2022-03-25T00:00:00Z   \n",
       "1  http://projects.worldbank.org/P173711/null?lan...  2022-03-25T00:00:00Z   \n",
       "2  http://projects.worldbank.org/P175747/null?lan...  2022-03-25T00:00:00Z   \n",
       "3  http://projects.worldbank.org/P175792/null?lan...  2022-03-25T00:00:00Z   \n",
       "4  http://projects.worldbank.org/P177073/null?lan...  2022-03-25T00:00:00Z   \n",
       "\n",
       "   ... grantamt                        borrower                  lendinginstr  \\\n",
       "0  ...        0              REPUBLIC OF ANGOLA    Development Policy Lending   \n",
       "1  ...        0          REPUBLIC OF MADAGASCAR  Investment Project Financing   \n",
       "2  ...        0              Kingdom of Morocco  Investment Project Financing   \n",
       "3  ...   410000              Republic of Malawi  Investment Project Financing   \n",
       "4  ...        0  Federated States of Micronesia  Investment Project Financing   \n",
       "\n",
       "   envassesmentcategorycode  esrc_ovrl_risk_rate  sector1  sector2 sector3  \\\n",
       "0                       NaN                  NaN      NaN      NaN     NaN   \n",
       "1                       NaN                  NaN      NaN      NaN     NaN   \n",
       "2                       NaN                  NaN      NaN      NaN     NaN   \n",
       "3                         C                  NaN      NaN      NaN     NaN   \n",
       "4                       NaN                  NaN      NaN      NaN     NaN   \n",
       "\n",
       "  theme1 theme2  \n",
       "0    NaN    NaN  \n",
       "1    NaN    NaN  \n",
       "2    NaN    NaN  \n",
       "3    NaN    NaN  \n",
       "4    NaN    NaN  \n",
       "\n",
       "[5 rows x 26 columns]"
      ]
     },
     "execution_count": 210,
     "metadata": {},
     "output_type": "execute_result"
    }
   ],
   "source": [
    "#trying to find out what values are there in the dataframe, types, formatting\n",
    "dataset.head()"
   ]
  },
  {
   "cell_type": "code",
   "execution_count": 211,
   "metadata": {},
   "outputs": [
    {
     "data": {
      "text/html": [
       "<div>\n",
       "<style scoped>\n",
       "    .dataframe tbody tr th:only-of-type {\n",
       "        vertical-align: middle;\n",
       "    }\n",
       "\n",
       "    .dataframe tbody tr th {\n",
       "        vertical-align: top;\n",
       "    }\n",
       "\n",
       "    .dataframe thead th {\n",
       "        text-align: right;\n",
       "    }\n",
       "</style>\n",
       "<table border=\"1\" class=\"dataframe\">\n",
       "  <thead>\n",
       "    <tr style=\"text-align: right;\">\n",
       "      <th></th>\n",
       "      <th>curr_project_cost</th>\n",
       "      <th>curr_ibrd_commitment</th>\n",
       "      <th>curr_ida_commitment</th>\n",
       "      <th>curr_total_commitment</th>\n",
       "      <th>grantamt</th>\n",
       "    </tr>\n",
       "  </thead>\n",
       "  <tbody>\n",
       "    <tr>\n",
       "      <th>count</th>\n",
       "      <td>2.134000e+04</td>\n",
       "      <td>2.148700e+04</td>\n",
       "      <td>2.148700e+04</td>\n",
       "      <td>2.148700e+04</td>\n",
       "      <td>2.148700e+04</td>\n",
       "    </tr>\n",
       "    <tr>\n",
       "      <th>mean</th>\n",
       "      <td>1.573027e+08</td>\n",
       "      <td>4.537050e+07</td>\n",
       "      <td>2.719748e+07</td>\n",
       "      <td>7.256798e+07</td>\n",
       "      <td>1.924198e+06</td>\n",
       "    </tr>\n",
       "    <tr>\n",
       "      <th>std</th>\n",
       "      <td>1.084423e+09</td>\n",
       "      <td>1.227862e+08</td>\n",
       "      <td>6.946621e+07</td>\n",
       "      <td>1.336311e+08</td>\n",
       "      <td>3.925397e+07</td>\n",
       "    </tr>\n",
       "    <tr>\n",
       "      <th>min</th>\n",
       "      <td>0.000000e+00</td>\n",
       "      <td>0.000000e+00</td>\n",
       "      <td>0.000000e+00</td>\n",
       "      <td>0.000000e+00</td>\n",
       "      <td>0.000000e+00</td>\n",
       "    </tr>\n",
       "    <tr>\n",
       "      <th>25%</th>\n",
       "      <td>1.000000e+07</td>\n",
       "      <td>0.000000e+00</td>\n",
       "      <td>0.000000e+00</td>\n",
       "      <td>5.000000e+06</td>\n",
       "      <td>0.000000e+00</td>\n",
       "    </tr>\n",
       "    <tr>\n",
       "      <th>50%</th>\n",
       "      <td>3.260000e+07</td>\n",
       "      <td>0.000000e+00</td>\n",
       "      <td>0.000000e+00</td>\n",
       "      <td>2.500000e+07</td>\n",
       "      <td>0.000000e+00</td>\n",
       "    </tr>\n",
       "    <tr>\n",
       "      <th>75%</th>\n",
       "      <td>1.013250e+08</td>\n",
       "      <td>3.150000e+07</td>\n",
       "      <td>2.200000e+07</td>\n",
       "      <td>8.400000e+07</td>\n",
       "      <td>0.000000e+00</td>\n",
       "    </tr>\n",
       "    <tr>\n",
       "      <th>max</th>\n",
       "      <td>9.300700e+10</td>\n",
       "      <td>3.750000e+09</td>\n",
       "      <td>1.375000e+09</td>\n",
       "      <td>3.750000e+09</td>\n",
       "      <td>5.330000e+09</td>\n",
       "    </tr>\n",
       "  </tbody>\n",
       "</table>\n",
       "</div>"
      ],
      "text/plain": [
       "       curr_project_cost  curr_ibrd_commitment  curr_ida_commitment  \\\n",
       "count       2.134000e+04          2.148700e+04         2.148700e+04   \n",
       "mean        1.573027e+08          4.537050e+07         2.719748e+07   \n",
       "std         1.084423e+09          1.227862e+08         6.946621e+07   \n",
       "min         0.000000e+00          0.000000e+00         0.000000e+00   \n",
       "25%         1.000000e+07          0.000000e+00         0.000000e+00   \n",
       "50%         3.260000e+07          0.000000e+00         0.000000e+00   \n",
       "75%         1.013250e+08          3.150000e+07         2.200000e+07   \n",
       "max         9.300700e+10          3.750000e+09         1.375000e+09   \n",
       "\n",
       "       curr_total_commitment      grantamt  \n",
       "count           2.148700e+04  2.148700e+04  \n",
       "mean            7.256798e+07  1.924198e+06  \n",
       "std             1.336311e+08  3.925397e+07  \n",
       "min             0.000000e+00  0.000000e+00  \n",
       "25%             5.000000e+06  0.000000e+00  \n",
       "50%             2.500000e+07  0.000000e+00  \n",
       "75%             8.400000e+07  0.000000e+00  \n",
       "max             3.750000e+09  5.330000e+09  "
      ]
     },
     "execution_count": 211,
     "metadata": {},
     "output_type": "execute_result"
    }
   ],
   "source": [
    "dataset.describe()"
   ]
  },
  {
   "cell_type": "code",
   "execution_count": 212,
   "metadata": {},
   "outputs": [
    {
     "data": {
      "text/plain": [
       "array(['Active', 'Closed', nan, 'Pipeline', 'Dropped'], dtype=object)"
      ]
     },
     "execution_count": 212,
     "metadata": {},
     "output_type": "execute_result"
    }
   ],
   "source": [
    "#so we have Active, Closed, Pipeline and Dropped types, along with NaN\n",
    "dataset.projectstatusdisplay.unique()\n"
   ]
  },
  {
   "cell_type": "code",
   "execution_count": 213,
   "metadata": {},
   "outputs": [
    {
     "data": {
      "text/plain": [
       "array(['Africa East', 'Middle East and North Africa',\n",
       "       'East Asia and Pacific', 'Africa West',\n",
       "       'Latin America and Caribbean', 'South Asia',\n",
       "       'Europe and Central Asia', 'Other', 'Africa', nan], dtype=object)"
      ]
     },
     "execution_count": 213,
     "metadata": {},
     "output_type": "execute_result"
    }
   ],
   "source": [
    "dataset.regionname.unique()"
   ]
  },
  {
   "cell_type": "code",
   "execution_count": 214,
   "metadata": {},
   "outputs": [
    {
     "data": {
      "text/html": [
       "<div>\n",
       "<style scoped>\n",
       "    .dataframe tbody tr th:only-of-type {\n",
       "        vertical-align: middle;\n",
       "    }\n",
       "\n",
       "    .dataframe tbody tr th {\n",
       "        vertical-align: top;\n",
       "    }\n",
       "\n",
       "    .dataframe thead th {\n",
       "        text-align: right;\n",
       "    }\n",
       "</style>\n",
       "<table border=\"1\" class=\"dataframe\">\n",
       "  <thead>\n",
       "    <tr style=\"text-align: right;\">\n",
       "      <th></th>\n",
       "      <th>id</th>\n",
       "      <th>regionname</th>\n",
       "      <th>countryname</th>\n",
       "      <th>projectstatusdisplay</th>\n",
       "      <th>project_name</th>\n",
       "      <th>pdo</th>\n",
       "      <th>impagency</th>\n",
       "      <th>cons_serv_reqd_ind</th>\n",
       "      <th>url</th>\n",
       "      <th>boardapprovaldate</th>\n",
       "      <th>...</th>\n",
       "      <th>grantamt</th>\n",
       "      <th>borrower</th>\n",
       "      <th>lendinginstr</th>\n",
       "      <th>envassesmentcategorycode</th>\n",
       "      <th>esrc_ovrl_risk_rate</th>\n",
       "      <th>sector1</th>\n",
       "      <th>sector2</th>\n",
       "      <th>sector3</th>\n",
       "      <th>theme1</th>\n",
       "      <th>theme2</th>\n",
       "    </tr>\n",
       "  </thead>\n",
       "  <tbody>\n",
       "    <tr>\n",
       "      <th>3301</th>\n",
       "      <td>P156335</td>\n",
       "      <td>East Asia and Pacific</td>\n",
       "      <td>Pacific Islands</td>\n",
       "      <td>NaN</td>\n",
       "      <td>PACIFIC RESILIENCE PROGRAM</td>\n",
       "      <td>The objective of the Program is to strengthen ...</td>\n",
       "      <td>NaN</td>\n",
       "      <td>NaN</td>\n",
       "      <td>http://projects.worldbank.org/P156335/null?lan...</td>\n",
       "      <td>2015-06-19T00:00:00Z</td>\n",
       "      <td>...</td>\n",
       "      <td>900000</td>\n",
       "      <td>NaN</td>\n",
       "      <td>Investment Project Financing</td>\n",
       "      <td>B</td>\n",
       "      <td>NaN</td>\n",
       "      <td>Other Water Supply, Sanitation and Waste Manag...</td>\n",
       "      <td>Public Administration - Financial Sector</td>\n",
       "      <td>Other Transportation</td>\n",
       "      <td>Natural disaster management</td>\n",
       "      <td>Climate change</td>\n",
       "    </tr>\n",
       "    <tr>\n",
       "      <th>4752</th>\n",
       "      <td>P121213</td>\n",
       "      <td>Africa West</td>\n",
       "      <td>Republic of Liberia</td>\n",
       "      <td>NaN</td>\n",
       "      <td>DROPPED - LR: Road Asset Management Project - ...</td>\n",
       "      <td>The objective is to improve transport efficien...</td>\n",
       "      <td>NaN</td>\n",
       "      <td>NaN</td>\n",
       "      <td>http://projects.worldbank.org/P121213/liberia-...</td>\n",
       "      <td>2012-08-07T00:00:00Z</td>\n",
       "      <td>...</td>\n",
       "      <td>113000000</td>\n",
       "      <td>NaN</td>\n",
       "      <td>Specific Investment Loan</td>\n",
       "      <td>B</td>\n",
       "      <td>NaN</td>\n",
       "      <td>Rural and Inter-Urban Roads</td>\n",
       "      <td>NaN</td>\n",
       "      <td>NaN</td>\n",
       "      <td>Infrastructure services for private sector dev...</td>\n",
       "      <td>NaN</td>\n",
       "    </tr>\n",
       "    <tr>\n",
       "      <th>18367</th>\n",
       "      <td>P114115</td>\n",
       "      <td>Africa West</td>\n",
       "      <td>Republic of Guinea-Bissau</td>\n",
       "      <td>NaN</td>\n",
       "      <td>Education for All - Fast Track Initiative Program</td>\n",
       "      <td>The Project Development Objective is to improv...</td>\n",
       "      <td>NaN</td>\n",
       "      <td>NaN</td>\n",
       "      <td>http://projects.worldbank.org/P114115/educatio...</td>\n",
       "      <td>NaN</td>\n",
       "      <td>...</td>\n",
       "      <td>12000000</td>\n",
       "      <td>NaN</td>\n",
       "      <td>Specific Investment Loan</td>\n",
       "      <td>B</td>\n",
       "      <td>NaN</td>\n",
       "      <td>Primary Education</td>\n",
       "      <td>Secondary Education</td>\n",
       "      <td>NaN</td>\n",
       "      <td>Education for all</td>\n",
       "      <td>NaN</td>\n",
       "    </tr>\n",
       "  </tbody>\n",
       "</table>\n",
       "<p>3 rows × 26 columns</p>\n",
       "</div>"
      ],
      "text/plain": [
       "            id             regionname                countryname  \\\n",
       "3301   P156335  East Asia and Pacific            Pacific Islands   \n",
       "4752   P121213            Africa West        Republic of Liberia   \n",
       "18367  P114115            Africa West  Republic of Guinea-Bissau   \n",
       "\n",
       "      projectstatusdisplay                                       project_name  \\\n",
       "3301                   NaN                         PACIFIC RESILIENCE PROGRAM   \n",
       "4752                   NaN  DROPPED - LR: Road Asset Management Project - ...   \n",
       "18367                  NaN  Education for All - Fast Track Initiative Program   \n",
       "\n",
       "                                                     pdo impagency  \\\n",
       "3301   The objective of the Program is to strengthen ...       NaN   \n",
       "4752   The objective is to improve transport efficien...       NaN   \n",
       "18367  The Project Development Objective is to improv...       NaN   \n",
       "\n",
       "      cons_serv_reqd_ind                                                url  \\\n",
       "3301                 NaN  http://projects.worldbank.org/P156335/null?lan...   \n",
       "4752                 NaN  http://projects.worldbank.org/P121213/liberia-...   \n",
       "18367                NaN  http://projects.worldbank.org/P114115/educatio...   \n",
       "\n",
       "          boardapprovaldate  ...   grantamt borrower  \\\n",
       "3301   2015-06-19T00:00:00Z  ...     900000      NaN   \n",
       "4752   2012-08-07T00:00:00Z  ...  113000000      NaN   \n",
       "18367                   NaN  ...   12000000      NaN   \n",
       "\n",
       "                       lendinginstr  envassesmentcategorycode  \\\n",
       "3301   Investment Project Financing                         B   \n",
       "4752       Specific Investment Loan                         B   \n",
       "18367      Specific Investment Loan                         B   \n",
       "\n",
       "       esrc_ovrl_risk_rate                                            sector1  \\\n",
       "3301                   NaN  Other Water Supply, Sanitation and Waste Manag...   \n",
       "4752                   NaN                        Rural and Inter-Urban Roads   \n",
       "18367                  NaN                                  Primary Education   \n",
       "\n",
       "                                        sector2               sector3  \\\n",
       "3301   Public Administration - Financial Sector  Other Transportation   \n",
       "4752                                        NaN                   NaN   \n",
       "18367                       Secondary Education                   NaN   \n",
       "\n",
       "                                                  theme1          theme2  \n",
       "3301                         Natural disaster management  Climate change  \n",
       "4752   Infrastructure services for private sector dev...             NaN  \n",
       "18367                                  Education for all             NaN  \n",
       "\n",
       "[3 rows x 26 columns]"
      ]
     },
     "execution_count": 214,
     "metadata": {},
     "output_type": "execute_result"
    }
   ],
   "source": [
    "#finding out NaN values for project status display: there are only three, so we may exclude them.\n",
    "dataset[dataset['projectstatusdisplay'].isna()]"
   ]
  },
  {
   "cell_type": "code",
   "execution_count": 215,
   "metadata": {},
   "outputs": [
    {
     "name": "stderr",
     "output_type": "stream",
     "text": [
      "C:\\Users\\krish\\AppData\\Local\\Temp\\ipykernel_9644\\155088899.py:1: SettingWithCopyWarning: \n",
      "A value is trying to be set on a copy of a slice from a DataFrame.\n",
      "Try using .loc[row_indexer,col_indexer] = value instead\n",
      "\n",
      "See the caveats in the documentation: https://pandas.pydata.org/pandas-docs/stable/user_guide/indexing.html#returning-a-view-versus-a-copy\n",
      "  dataset[dataset['curr_project_cost'].isna()]['curr_project_cost'] = -dataset['curr_project_cost'].max()\n"
     ]
    }
   ],
   "source": [
    "dataset[dataset['curr_project_cost'].isna()]['curr_project_cost'] = -dataset['curr_project_cost'].max()"
   ]
  },
  {
   "cell_type": "code",
   "execution_count": 216,
   "metadata": {},
   "outputs": [],
   "source": [
    "#removing rows from the dataset where projectstatusdisplay is nan\n",
    "dataset = dataset[dataset['projectstatusdisplay'].notna()]"
   ]
  },
  {
   "cell_type": "code",
   "execution_count": 217,
   "metadata": {},
   "outputs": [
    {
     "name": "stderr",
     "output_type": "stream",
     "text": [
      "C:\\Users\\krish\\AppData\\Local\\Temp\\ipykernel_9644\\3133648340.py:4: SettingWithCopyWarning: \n",
      "A value is trying to be set on a copy of a slice from a DataFrame.\n",
      "Try using .loc[row_indexer,col_indexer] = value instead\n",
      "\n",
      "See the caveats in the documentation: https://pandas.pydata.org/pandas-docs/stable/user_guide/indexing.html#returning-a-view-versus-a-copy\n",
      "  dataset['projectstatus'] = dataset.apply(lambda row: 0 if row.projectstatusdisplay == 0 else 1, axis = 1)\n"
     ]
    }
   ],
   "source": [
    "#now, encoding pipeline, closed and active as 1, dropped as 0\n",
    "#Assuming that closed project means that the projects have been completed...\n",
    "\n",
    "dataset['projectstatus'] = dataset.apply(lambda row: 0 if row.projectstatusdisplay == 0 else 1, axis = 1)"
   ]
  },
  {
   "cell_type": "code",
   "execution_count": 218,
   "metadata": {},
   "outputs": [],
   "source": [
    "#encoding the categorical variables\n",
    "label_encoder = preprocessing.LabelEncoder()\n",
    "dataset['regioncode'] = label_encoder.fit_transform(dataset.regionname)\n",
    "dataset['countrycode'] = label_encoder.fit_transform(dataset['countryname'])\n",
    "dataset['countrycode'] = label_encoder.fit_transform(dataset['countryname'])\n",
    "dataset['financecode'] = label_encoder.fit_transform(dataset['projectfinancialtype'])\n",
    "dataset['borrowercode'] = label_encoder.fit_transform(dataset['borrower'])\n",
    "dataset['lendinginstrcode'] = label_encoder.fit_transform(dataset['lendinginstr'])\n",
    "dataset['envassesmentcategorycode'] = label_encoder.fit_transform(dataset['envassesmentcategorycode'])\n",
    "dataset['esrc_ovrl_risk_rate'] = label_encoder.fit_transform(dataset['esrc_ovrl_risk_rate'])\n",
    "dataset['sector1'] = label_encoder.fit_transform(dataset['sector1'])\n",
    "dataset['sector2'] = label_encoder.fit_transform(dataset['sector2'])\n",
    "dataset['sector3'] = label_encoder.fit_transform(dataset['sector3'])\n",
    "dataset['theme1'] = label_encoder.fit_transform(dataset['theme1'])\n",
    "dataset['theme2'] = label_encoder.fit_transform(dataset['theme2'])"
   ]
  },
  {
   "cell_type": "code",
   "execution_count": 219,
   "metadata": {},
   "outputs": [
    {
     "name": "stdout",
     "output_type": "stream",
     "text": [
      "[8 2 1 0 6 4 7 3 5]\n",
      "\n",
      "[4 3 1 0 2]\n",
      "\n",
      "[159 145 146  76  94  83 148 111  93 116 149 144 139 130  82 125 158 118\n",
      " 138  91 157 112  99 127  98 126  87  85  80  86  81 133 135 101  89 154\n",
      "  77 128 117 134 110 140 102 141 100 113 151 115 156 109 131 103 104 152\n",
      " 132  95 129 136 122 107 114 153 108 137  75 124 106 143 142  78 105 147\n",
      "  33  26 123  36  16  41  54  29  88  35  48 120 119  96 155 150 121  79\n",
      "  12  97  38  64  63  56  18  55  43  92  73  71  23   1   3  24   8  84\n",
      "  67  27  21  30  60  13  14  70  19  66  31  34  57  40  68  62  53  22\n",
      "  17  11   5  47  90  72  58  39   2  25   7   6  45  44  69  50  32  59\n",
      "  74  37   4  10  20  28  51  65  61  42   9  52  46   0  15  49]\n",
      "\n",
      "[102  99  29  33  72  42  58  69  92  40  36  76  91  68  52  26  31  75\n",
      "  87  82 101  20  70  74  19  35  60  41  57  88 100  54  67  71  86  80\n",
      "  44  30  49  97  59  45  73  53  24  43  95  96  55  77  56  18  37  51\n",
      "  28  25  23  81  79  64  94  89  46  50  83  78  84  48  90  66  32  85\n",
      "  47  21  65   2  38  62  39  22  63  98  27  34  93  61   0  14   5  13\n",
      "  15   7  11   1  16   3  10  17   4   9   8   6  12]\n",
      "\n",
      "[90  8 58 57 13 61 17 66 80 71 64 59 41 46 63 29 33 79 89 82 75  9 74 15\n",
      " 43 76 87 28 25 84 56 47 40 62 19 24 31 65 83 42 14 30 18  7 85 22 60 45\n",
      " 20 39 88 48 70 37 26 77 32 12 67 53 34 44 68 69 38 73 10 36 72 55 78 54\n",
      "  5 35 81 86 27 52 50 49 23 21 51 11 16  4  2  6  0  3  1]\n",
      "\n",
      "[73 13  5 62 14 22 69 34 41 56 15  4 38 36 11 47 64 58 12 57 35  6 44 46\n",
      " 72 40 25 66 31  8 48 50 27 18 37  3 33 67 59 21 19 55 71  1  7 70  9 43\n",
      " 60 54 63 53 10 61 39 26 23 51 49 68 32 17 52 30  0 29 28 16  2 20 45 65\n",
      " 42 24]\n",
      "\n",
      "[73 53 51 62 34 50  5 19 37 56 35 57 48 44  4 60 13 22 11 15 72 14 38 10\n",
      " 66 27 58 69 12  1 40 59 68 71 33 54 21 41 63 61  8  6 18 47 52 46 31  9\n",
      " 43 49  7 39 36 67 55 28  2 23 64 25 45  0 29  3 70 17 26 20 16 32 65 30\n",
      " 42 24]\n"
     ]
    }
   ],
   "source": [
    "# print(dataset.head())\n",
    "print(dataset.envassesmentcategorycode.unique(),\n",
    "dataset.esrc_ovrl_risk_rate.unique(),\n",
    "dataset.sector1.unique(),\n",
    "dataset.sector2.unique(),\n",
    "dataset.sector3.unique(),\n",
    "dataset.theme1.unique(),\n",
    "dataset.theme2.unique()\n",
    ",sep = '\\n\\n')"
   ]
  },
  {
   "cell_type": "code",
   "execution_count": 220,
   "metadata": {},
   "outputs": [],
   "source": [
    "#transforming nan values to 0 in envassesmentcategorycode, esrc_ovrl_risk_rate, sector1, sector2, sector3, theme1, theme2"
   ]
  },
  {
   "cell_type": "code",
   "execution_count": 221,
   "metadata": {},
   "outputs": [
    {
     "data": {
      "text/plain": [
       "id                          False\n",
       "regionname                   True\n",
       "countryname                  True\n",
       "projectstatusdisplay        False\n",
       "project_name                False\n",
       "pdo                          True\n",
       "impagency                    True\n",
       "cons_serv_reqd_ind           True\n",
       "url                         False\n",
       "boardapprovaldate            True\n",
       "closingdate                  True\n",
       "projectfinancialtype         True\n",
       "curr_project_cost            True\n",
       "curr_ibrd_commitment        False\n",
       "curr_ida_commitment         False\n",
       "curr_total_commitment       False\n",
       "grantamt                    False\n",
       "borrower                     True\n",
       "lendinginstr                 True\n",
       "envassesmentcategorycode    False\n",
       "esrc_ovrl_risk_rate         False\n",
       "sector1                     False\n",
       "sector2                     False\n",
       "sector3                     False\n",
       "theme1                      False\n",
       "theme2                      False\n",
       "projectstatus               False\n",
       "regioncode                  False\n",
       "countrycode                 False\n",
       "financecode                 False\n",
       "borrowercode                False\n",
       "lendinginstrcode            False\n",
       "dtype: bool"
      ]
     },
     "execution_count": 221,
     "metadata": {},
     "output_type": "execute_result"
    }
   ],
   "source": [
    "dataset.isna().any()"
   ]
  },
  {
   "cell_type": "code",
   "execution_count": 222,
   "metadata": {},
   "outputs": [
    {
     "data": {
      "text/plain": [
       "id                           object\n",
       "regionname                   object\n",
       "countryname                  object\n",
       "projectstatusdisplay         object\n",
       "project_name                 object\n",
       "pdo                          object\n",
       "impagency                    object\n",
       "cons_serv_reqd_ind           object\n",
       "url                          object\n",
       "boardapprovaldate            object\n",
       "closingdate                  object\n",
       "projectfinancialtype         object\n",
       "curr_project_cost           float64\n",
       "curr_ibrd_commitment          int64\n",
       "curr_ida_commitment           int64\n",
       "curr_total_commitment         int64\n",
       "grantamt                      int64\n",
       "borrower                     object\n",
       "lendinginstr                 object\n",
       "envassesmentcategorycode      int32\n",
       "esrc_ovrl_risk_rate           int32\n",
       "sector1                       int32\n",
       "sector2                       int32\n",
       "sector3                       int32\n",
       "theme1                        int32\n",
       "theme2                        int32\n",
       "projectstatus                 int64\n",
       "regioncode                    int32\n",
       "countrycode                   int32\n",
       "financecode                   int32\n",
       "borrowercode                  int32\n",
       "lendinginstrcode              int32\n",
       "dtype: object"
      ]
     },
     "execution_count": 222,
     "metadata": {},
     "output_type": "execute_result"
    }
   ],
   "source": [
    "dataset.dtypes"
   ]
  },
  {
   "cell_type": "code",
   "execution_count": 223,
   "metadata": {},
   "outputs": [],
   "source": [
    "#taking transformed and relevant columns, rejecting others\n",
    "req_cols = ['project_name', 'pdo', 'impagency', 'curr_project_cost', 'curr_ibrd_commitment', 'curr_ida_commitment', 'curr_total_commitment', 'grantamt', 'envassesmentcategorycode', 'esrc_ovrl_risk_rate', 'sector1', 'sector2', 'sector3', 'theme1', 'theme2', 'regioncode', 'countrycode', 'financecode', 'borrowercode', 'lendinginstrcode', 'projectstatus']\n",
    "dataset = pd.DataFrame(dataset, columns = req_cols)"
   ]
  },
  {
   "cell_type": "code",
   "execution_count": 224,
   "metadata": {},
   "outputs": [
    {
     "data": {
      "text/plain": [
       "project_name                False\n",
       "pdo                          True\n",
       "impagency                    True\n",
       "curr_project_cost            True\n",
       "curr_ibrd_commitment        False\n",
       "curr_ida_commitment         False\n",
       "curr_total_commitment       False\n",
       "grantamt                    False\n",
       "envassesmentcategorycode    False\n",
       "esrc_ovrl_risk_rate         False\n",
       "sector1                     False\n",
       "sector2                     False\n",
       "sector3                     False\n",
       "theme1                      False\n",
       "theme2                      False\n",
       "regioncode                  False\n",
       "countrycode                 False\n",
       "financecode                 False\n",
       "borrowercode                False\n",
       "lendinginstrcode            False\n",
       "projectstatus               False\n",
       "dtype: bool"
      ]
     },
     "execution_count": 224,
     "metadata": {},
     "output_type": "execute_result"
    }
   ],
   "source": [
    "dataset.isna().any()"
   ]
  },
  {
   "cell_type": "code",
   "execution_count": 225,
   "metadata": {},
   "outputs": [
    {
     "data": {
      "text/plain": [
       "project_name                False\n",
       "pdo                         False\n",
       "impagency                   False\n",
       "curr_project_cost           False\n",
       "curr_ibrd_commitment        False\n",
       "curr_ida_commitment         False\n",
       "curr_total_commitment       False\n",
       "grantamt                    False\n",
       "envassesmentcategorycode    False\n",
       "esrc_ovrl_risk_rate         False\n",
       "sector1                     False\n",
       "sector2                     False\n",
       "sector3                     False\n",
       "theme1                      False\n",
       "theme2                      False\n",
       "regioncode                  False\n",
       "countrycode                 False\n",
       "financecode                 False\n",
       "borrowercode                False\n",
       "lendinginstrcode            False\n",
       "projectstatus               False\n",
       "dtype: bool"
      ]
     },
     "execution_count": 225,
     "metadata": {},
     "output_type": "execute_result"
    }
   ],
   "source": [
    "#since there still exist na values, fill them with empty strings (textual data)\n",
    "dataset = dataset.fillna('')\n",
    "dataset.isna().any()"
   ]
  },
  {
   "cell_type": "code",
   "execution_count": 226,
   "metadata": {},
   "outputs": [],
   "source": [
    "dataset = dataset.iloc[:, 4:]"
   ]
  },
  {
   "cell_type": "code",
   "execution_count": 227,
   "metadata": {},
   "outputs": [],
   "source": [
    "# #visualisation\n",
    "# g = sns.PairGrid(dataset.iloc[:, 4:])\n",
    "# g.map(sns.scatterplot)\n",
    "\n",
    "# #we can notice some multicollinearity going on here, but since the model will be a deep neural network, it may not pose much problems."
   ]
  },
  {
   "cell_type": "code",
   "execution_count": 228,
   "metadata": {},
   "outputs": [],
   "source": [
    "train, test = train_test_split(dataset, test_size = 0.15, shuffle = True, random_state = 534)    #seed for reproducible results\n",
    "train, val = train_test_split(train, test_size = 0.2, shuffle = True, random_state = 534)"
   ]
  },
  {
   "cell_type": "code",
   "execution_count": 229,
   "metadata": {},
   "outputs": [],
   "source": [
    "#normalisation only normalise indices 4, 5, 6 and 7\n",
    "scaler = preprocessing.MinMaxScaler()\n",
    "train.iloc[:, : 4] = scaler.fit_transform(train.iloc[:, : 4])\n",
    "test.iloc[:, : 4] = scaler.transform(test.iloc[:, : 4])\n",
    "val.iloc[:, : 4] = scaler.transform(val.iloc[:, : 4])"
   ]
  },
  {
   "cell_type": "code",
   "execution_count": 230,
   "metadata": {},
   "outputs": [
    {
     "name": "stdout",
     "output_type": "stream",
     "text": [
      "(14608, 17)\n"
     ]
    }
   ],
   "source": [
    "shape = np.shape(train)\n",
    "print(shape)"
   ]
  },
  {
   "cell_type": "code",
   "execution_count": 231,
   "metadata": {},
   "outputs": [],
   "source": [
    "#trying out logistic regression\n",
    "model = tf.keras.models.Sequential([\n",
    "    tf.keras.layers.Dense(1, activation = 'sigmoid')\n",
    "])"
   ]
  },
  {
   "cell_type": "code",
   "execution_count": 232,
   "metadata": {},
   "outputs": [],
   "source": [
    "model.compile(\n",
    "    loss = 'binary_crossentropy',\n",
    "    optimizer = 'adam',\n",
    "    metrics = ['accuracy', 'mse']\n",
    ")"
   ]
  },
  {
   "cell_type": "code",
   "execution_count": 233,
   "metadata": {},
   "outputs": [
    {
     "name": "stdout",
     "output_type": "stream",
     "text": [
      "Epoch 1/30\n",
      "229/229 [==============================] - 1s 3ms/step - loss: 2.1004e-07 - accuracy: 1.0000 - mse: 6.4243e-10 - val_loss: 2.6315e-16 - val_accuracy: 1.0000 - val_mse: 0.0000e+00\n",
      "Epoch 2/30\n",
      "229/229 [==============================] - 1s 3ms/step - loss: 8.2014e-11 - accuracy: 1.0000 - mse: 9.7281e-17 - val_loss: 2.5861e-16 - val_accuracy: 1.0000 - val_mse: 0.0000e+00\n",
      "Epoch 3/30\n",
      "229/229 [==============================] - 1s 3ms/step - loss: 8.1673e-11 - accuracy: 1.0000 - mse: 9.7281e-17 - val_loss: 2.5682e-16 - val_accuracy: 1.0000 - val_mse: 0.0000e+00\n",
      "Epoch 4/30\n",
      "229/229 [==============================] - 1s 3ms/step - loss: 8.1126e-11 - accuracy: 1.0000 - mse: 9.7281e-17 - val_loss: 2.5595e-16 - val_accuracy: 1.0000 - val_mse: 0.0000e+00\n",
      "Epoch 5/30\n",
      "229/229 [==============================] - 1s 3ms/step - loss: 8.0703e-11 - accuracy: 1.0000 - mse: 9.7281e-17 - val_loss: 2.5209e-16 - val_accuracy: 1.0000 - val_mse: 0.0000e+00\n",
      "Epoch 6/30\n",
      "229/229 [==============================] - 1s 3ms/step - loss: 7.9746e-11 - accuracy: 1.0000 - mse: 9.7281e-17 - val_loss: 2.4927e-16 - val_accuracy: 1.0000 - val_mse: 0.0000e+00\n",
      "Epoch 7/30\n",
      "229/229 [==============================] - 1s 2ms/step - loss: 7.8809e-11 - accuracy: 1.0000 - mse: 9.7281e-17 - val_loss: 2.4557e-16 - val_accuracy: 1.0000 - val_mse: 0.0000e+00\n",
      "Epoch 8/30\n",
      "229/229 [==============================] - 1s 3ms/step - loss: 7.7812e-11 - accuracy: 1.0000 - mse: 9.7281e-17 - val_loss: 2.4182e-16 - val_accuracy: 1.0000 - val_mse: 0.0000e+00\n",
      "Epoch 9/30\n",
      "229/229 [==============================] - 1s 3ms/step - loss: 7.6701e-11 - accuracy: 1.0000 - mse: 7.8798e-17 - val_loss: 2.3781e-16 - val_accuracy: 1.0000 - val_mse: 0.0000e+00\n",
      "Epoch 10/30\n",
      "229/229 [==============================] - 1s 3ms/step - loss: 7.5509e-11 - accuracy: 1.0000 - mse: 7.8798e-17 - val_loss: 2.3311e-16 - val_accuracy: 1.0000 - val_mse: 0.0000e+00\n",
      "Epoch 11/30\n",
      "229/229 [==============================] - 1s 3ms/step - loss: 7.4057e-11 - accuracy: 1.0000 - mse: 7.8798e-17 - val_loss: 2.2815e-16 - val_accuracy: 1.0000 - val_mse: 0.0000e+00\n",
      "Epoch 12/30\n",
      "229/229 [==============================] - 1s 3ms/step - loss: 7.2525e-11 - accuracy: 1.0000 - mse: 7.8798e-17 - val_loss: 2.2259e-16 - val_accuracy: 1.0000 - val_mse: 0.0000e+00\n",
      "Epoch 13/30\n",
      "229/229 [==============================] - 1s 3ms/step - loss: 7.0972e-11 - accuracy: 1.0000 - mse: 7.8798e-17 - val_loss: 2.1686e-16 - val_accuracy: 1.0000 - val_mse: 0.0000e+00\n",
      "Epoch 14/30\n",
      "229/229 [==============================] - 1s 3ms/step - loss: 6.9256e-11 - accuracy: 1.0000 - mse: 6.2260e-17 - val_loss: 2.1070e-16 - val_accuracy: 1.0000 - val_mse: 0.0000e+00\n",
      "Epoch 15/30\n",
      "229/229 [==============================] - 1s 3ms/step - loss: 6.7319e-11 - accuracy: 1.0000 - mse: 6.2260e-17 - val_loss: 2.0391e-16 - val_accuracy: 1.0000 - val_mse: 0.0000e+00\n",
      "Epoch 16/30\n",
      "229/229 [==============================] - 1s 3ms/step - loss: 6.5335e-11 - accuracy: 1.0000 - mse: 6.2260e-17 - val_loss: 1.9680e-16 - val_accuracy: 1.0000 - val_mse: 0.0000e+00\n",
      "Epoch 17/30\n",
      "229/229 [==============================] - 1s 3ms/step - loss: 6.3213e-11 - accuracy: 1.0000 - mse: 6.2260e-17 - val_loss: 1.9000e-16 - val_accuracy: 1.0000 - val_mse: 0.0000e+00\n",
      "Epoch 18/30\n",
      "229/229 [==============================] - 1s 3ms/step - loss: 6.1167e-11 - accuracy: 1.0000 - mse: 4.7668e-17 - val_loss: 1.8224e-16 - val_accuracy: 1.0000 - val_mse: 0.0000e+00\n",
      "Epoch 19/30\n",
      "229/229 [==============================] - 1s 3ms/step - loss: 5.8815e-11 - accuracy: 1.0000 - mse: 4.7668e-17 - val_loss: 1.7463e-16 - val_accuracy: 1.0000 - val_mse: 0.0000e+00\n",
      "Epoch 20/30\n",
      "229/229 [==============================] - 1s 3ms/step - loss: 5.6500e-11 - accuracy: 1.0000 - mse: 4.7668e-17 - val_loss: 1.6664e-16 - val_accuracy: 1.0000 - val_mse: 0.0000e+00\n",
      "Epoch 21/30\n",
      "229/229 [==============================] - 1s 3ms/step - loss: 5.4062e-11 - accuracy: 1.0000 - mse: 4.7668e-17 - val_loss: 1.5838e-16 - val_accuracy: 1.0000 - val_mse: 0.0000e+00\n",
      "Epoch 22/30\n",
      "229/229 [==============================] - 1s 3ms/step - loss: 5.1529e-11 - accuracy: 1.0000 - mse: 3.5021e-17 - val_loss: 1.4970e-16 - val_accuracy: 1.0000 - val_mse: 0.0000e+00\n",
      "Epoch 23/30\n",
      "229/229 [==============================] - 1s 3ms/step - loss: 4.8860e-11 - accuracy: 1.0000 - mse: 3.5021e-17 - val_loss: 1.4134e-16 - val_accuracy: 1.0000 - val_mse: 0.0000e+00\n",
      "Epoch 24/30\n",
      "229/229 [==============================] - 1s 3ms/step - loss: 4.6276e-11 - accuracy: 1.0000 - mse: 3.5021e-17 - val_loss: 1.3363e-16 - val_accuracy: 1.0000 - val_mse: 0.0000e+00\n",
      "Epoch 25/30\n",
      "229/229 [==============================] - 1s 3ms/step - loss: 4.3884e-11 - accuracy: 1.0000 - mse: 2.4320e-17 - val_loss: 1.2517e-16 - val_accuracy: 1.0000 - val_mse: 0.0000e+00\n",
      "Epoch 26/30\n",
      "229/229 [==============================] - 1s 3ms/step - loss: 4.1248e-11 - accuracy: 1.0000 - mse: 2.4320e-17 - val_loss: 1.1714e-16 - val_accuracy: 1.0000 - val_mse: 0.0000e+00\n",
      "Epoch 27/30\n",
      "229/229 [==============================] - 1s 3ms/step - loss: 3.8729e-11 - accuracy: 1.0000 - mse: 2.4320e-17 - val_loss: 1.0981e-16 - val_accuracy: 1.0000 - val_mse: 0.0000e+00\n",
      "Epoch 28/30\n",
      "229/229 [==============================] - 1s 3ms/step - loss: 3.6424e-11 - accuracy: 1.0000 - mse: 1.5565e-17 - val_loss: 1.0209e-16 - val_accuracy: 1.0000 - val_mse: 0.0000e+00\n",
      "Epoch 29/30\n",
      "229/229 [==============================] - 1s 3ms/step - loss: 3.3982e-11 - accuracy: 1.0000 - mse: 1.5565e-17 - val_loss: 9.4688e-17 - val_accuracy: 1.0000 - val_mse: 0.0000e+00\n",
      "Epoch 30/30\n",
      "229/229 [==============================] - 1s 3ms/step - loss: 3.1552e-11 - accuracy: 1.0000 - mse: 1.5565e-17 - val_loss: 8.6758e-17 - val_accuracy: 1.0000 - val_mse: 0.0000e+00\n"
     ]
    }
   ],
   "source": [
    "history = model.fit(x = train.iloc[:, :-1],\n",
    "        y = train.iloc[:, -1],\n",
    "        batch_size = 64, \n",
    "        epochs = 30,\n",
    "        validation_data = [val.iloc[:, :-1], val.iloc[:, -1]],\n",
    "        validation_batch_size = 32)"
   ]
  },
  {
   "cell_type": "code",
   "execution_count": 234,
   "metadata": {},
   "outputs": [
    {
     "name": "stdout",
     "output_type": "stream",
     "text": [
      "101/101 [==============================] - 0s 1ms/step - loss: 1.1842e-16 - accuracy: 1.0000 - mse: 0.0000e+00\n"
     ]
    },
    {
     "data": {
      "text/plain": [
       "[1.184247351468078e-16, 1.0, 0.0]"
      ]
     },
     "execution_count": 234,
     "metadata": {},
     "output_type": "execute_result"
    }
   ],
   "source": [
    "model.evaluate(x = test.iloc[:, :-1], y = test.iloc[:, -1])"
   ]
  },
  {
   "cell_type": "code",
   "execution_count": 246,
   "metadata": {},
   "outputs": [],
   "source": [
    "def history_plotter(history):\n",
    "    '''Plots training information over epochs\n",
    "    Arguments: 1) history: history data obtained after training\n",
    "    Returns: None\n",
    "    '''\n",
    "    epochs = len(history.epoch)\n",
    "    epoch_range = range(epochs)\n",
    "    train_acc = history.history['accuracy']\n",
    "    val_acc = history.history['val_accuracy']\n",
    "    train_loss = history.history['loss']\n",
    "    val_loss = history.history['val_loss']\n",
    "\n",
    "    plt.figure(figsize = (16, 8))\n",
    "    plt.subplot(1, 2, 1)\n",
    "    plt.plot(epoch_range, train_acc, label = 'Training Accuracy')\n",
    "    plt.plot(epoch_range, val_acc, label = \"Validation Accuracy\")\n",
    "    plt.legend(loc = \"lower right\")\n",
    "\n",
    "    plt.subplot(1, 2, 2)\n",
    "    plt.plot(epoch_range, train_loss, label = \"Training Loss\")\n",
    "    plt.plot(epoch_range, val_loss, label = \"Validation Loss\")\n",
    "    plt.legend(loc = \"lower right\")\n",
    "    plt.show()\n",
    "\n"
   ]
  },
  {
   "cell_type": "code",
   "execution_count": 247,
   "metadata": {},
   "outputs": [
    {
     "data": {
      "image/png": "[encoded data removed]",
      "text/plain": [
       "<Figure size 1152x576 with 2 Axes>"
      ]
     },
     "metadata": {
      "needs_background": "light"
     },
     "output_type": "display_data"
    }
   ],
   "source": [
    "history_plotter(history)"
   ]
  }
 ],
 "metadata": {
  "kernelspec": {
   "display_name": "Python 3.8.13 ('myenv')",
   "language": "python",
   "name": "python3"
  },
  "language_info": {
   "codemirror_mode": {
    "name": "ipython",
    "version": 3
   },
   "file_extension": ".py",
   "mimetype": "text/x-python",
   "name": "python",
   "nbconvert_exporter": "python",
   "pygments_lexer": "ipython3",
   "version": "3.8.13"
  },
  "orig_nbformat": 4,
  "vscode": {
   "interpreter": {
    "hash": "de1e89af3ef8b17e93d79e53c27fdd6267335e03ee420ef3296d6319bf4dd9be"
   }
  }
 },
 "nbformat": 4,
 "nbformat_minor": 2
}

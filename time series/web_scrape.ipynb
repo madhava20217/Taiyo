{
 "cells": [
  {
   "cell_type": "code",
   "execution_count": 45,
   "metadata": {},
   "outputs": [],
   "source": [
    "from bs4 import BeautifulSoup\n",
    "import requests\n",
    "import csv\n",
    "import sys"
   ]
  },
  {
   "cell_type": "code",
   "execution_count": null,
   "metadata": {},
   "outputs": [],
   "source": [
    "if(len(sys.argv) != 2):\n",
    "    print(\"Please recheck the arguments supplied. Pass the URL of the Investing.com Historical Data section as the first argument\")\n",
    "    sys.exit(1)\n",
    "\n",
    "url = sys.argv[1]"
   ]
  },
  {
   "cell_type": "code",
   "execution_count": 3,
   "metadata": {},
   "outputs": [],
   "source": [
    "r = requests.get(url, headers = {'User-Agent': 'Mozilla/5.0'})"
   ]
  },
  {
   "cell_type": "code",
   "execution_count": 4,
   "metadata": {},
   "outputs": [],
   "source": [
    "soup = BeautifulSoup(r.content, 'html')"
   ]
  },
  {
   "cell_type": "code",
   "execution_count": 11,
   "metadata": {},
   "outputs": [],
   "source": [
    "table = soup.find(['table', \"genTbl closedTbl historicalTbl\"])"
   ]
  },
  {
   "cell_type": "code",
   "execution_count": 42,
   "metadata": {},
   "outputs": [],
   "source": [
    "i = 0\n",
    "prices = []\n",
    "\n",
    "dict_list = []\n",
    "\n",
    "variables = []\n",
    "\n",
    "for row in table.find_all_next(['tr']):\n",
    "    # if(i%6 == 0):\n",
    "    #     price.append\n",
    "\n",
    "    dictionary = {}\n",
    "\n",
    "    j = 0\n",
    "\n",
    "    for td in row:\n",
    "        if(i == 0):\n",
    "            variables.append(td.text)\n",
    "        else:\n",
    "            dictionary[variables[j]] = td.text\n",
    "            j+=1\n",
    "    if(len(dictionary.keys()) != 0):\n",
    "        dict_list.append(dictionary)\n",
    "\n",
    "    i+=1"
   ]
  },
  {
   "cell_type": "code",
   "execution_count": 44,
   "metadata": {},
   "outputs": [],
   "source": [
    "with open(url, 'w') as f:\n",
    "    w = csv.DictWriter(f, variables)\n",
    "    w.writeheader()\n",
    "    for d in dict_list:\n",
    "        w.writerow(d)"
   ]
  }
 ],
 "metadata": {
  "kernelspec": {
   "display_name": "Python 3.8.13 ('myenv')",
   "language": "python",
   "name": "python3"
  },
  "language_info": {
   "codemirror_mode": {
    "name": "ipython",
    "version": 3
   },
   "file_extension": ".py",
   "mimetype": "text/x-python",
   "name": "python",
   "nbconvert_exporter": "python",
   "pygments_lexer": "ipython3",
   "version": "3.8.13"
  },
  "orig_nbformat": 4,
  "vscode": {
   "interpreter": {
    "hash": "de1e89af3ef8b17e93d79e53c27fdd6267335e03ee420ef3296d6319bf4dd9be"
   }
  }
 },
 "nbformat": 4,
 "nbformat_minor": 2
}
